{
 "cells": [
  {
   "cell_type": "markdown",
   "metadata": {},
   "source": [
    "# Decision Tree Regression\n",
    "\n",
    "## Initial Setup\n",
    "## Important necessary modules"
   ]
  },
  {
   "cell_type": "code",
   "execution_count": 35,
   "metadata": {},
   "outputs": [],
   "source": [
    "import numpy as np\n",
    "import pandas as pd\n",
    "import matplotlib.pyplot as plt\n",
    "import seaborn as sns\n",
    "from sklearn.model_selection import train_test_split\n",
    "\n",
    "# Encoders\n",
    "from sklearn.preprocessing import LabelEncoder\n",
    "from sklearn.preprocessing import StandardScaler\n",
    "\n",
    "# ML models\n",
    "from sklearn.tree import DecisionTreeClassifier\n",
    "from sklearn.svm import SVC\n",
    "from sklearn.ensemble import RandomForestClassifier\n",
    "\n",
    "#score metrices\n",
    "from sklearn.metrics import mean_squared_error\n",
    "from sklearn.metrics import r2_score\n",
    "from sklearn.metrics import confusion_matrix, classification_report\n",
    "\n",
    "from sklearn.model_selection import train_test_split, GridSearchCV, cross_val_score, ShuffleSplit"
   ]
  },
  {
   "cell_type": "markdown",
   "metadata": {},
   "source": [
    "## Stylistics"
   ]
  },
  {
   "cell_type": "code",
   "execution_count": 36,
   "metadata": {},
   "outputs": [],
   "source": [
    "%matplotlib inline\n",
    "plt.style.use(\"dark_background\")\n",
    "pd.set_option(\"display.max_rows\", 500)\n",
    "pd.set_option(\"display.max_columns\", 500)\n",
    "pd.set_option(\"precision\", 2)"
   ]
  },
  {
   "cell_type": "markdown",
   "metadata": {},
   "source": [
    "## Import Dataset"
   ]
  },
  {
   "cell_type": "code",
   "execution_count": 37,
   "metadata": {},
   "outputs": [],
   "source": [
    "wine = pd.read_csv(\"/Users/rohithebbar/Desktop/Machine_learning_projects/Decision_trees/datasets/winequality-red.csv\")"
   ]
  },
  {
   "cell_type": "markdown",
   "metadata": {},
   "source": [
    "## Exploring the dataset\n"
   ]
  },
  {
   "cell_type": "code",
   "execution_count": 38,
   "metadata": {},
   "outputs": [
    {
     "data": {
      "text/html": [
       "<div>\n",
       "<style scoped>\n",
       "    .dataframe tbody tr th:only-of-type {\n",
       "        vertical-align: middle;\n",
       "    }\n",
       "\n",
       "    .dataframe tbody tr th {\n",
       "        vertical-align: top;\n",
       "    }\n",
       "\n",
       "    .dataframe thead th {\n",
       "        text-align: right;\n",
       "    }\n",
       "</style>\n",
       "<table border=\"1\" class=\"dataframe\">\n",
       "  <thead>\n",
       "    <tr style=\"text-align: right;\">\n",
       "      <th></th>\n",
       "      <th>fixed acidity</th>\n",
       "      <th>volatile acidity</th>\n",
       "      <th>citric acid</th>\n",
       "      <th>residual sugar</th>\n",
       "      <th>chlorides</th>\n",
       "      <th>free sulfur dioxide</th>\n",
       "      <th>total sulfur dioxide</th>\n",
       "      <th>density</th>\n",
       "      <th>pH</th>\n",
       "      <th>sulphates</th>\n",
       "      <th>alcohol</th>\n",
       "      <th>quality</th>\n",
       "    </tr>\n",
       "  </thead>\n",
       "  <tbody>\n",
       "    <tr>\n",
       "      <th>0</th>\n",
       "      <td>7.4</td>\n",
       "      <td>0.70</td>\n",
       "      <td>0.00</td>\n",
       "      <td>1.9</td>\n",
       "      <td>0.08</td>\n",
       "      <td>11.0</td>\n",
       "      <td>34.0</td>\n",
       "      <td>1.0</td>\n",
       "      <td>3.51</td>\n",
       "      <td>0.56</td>\n",
       "      <td>9.4</td>\n",
       "      <td>5</td>\n",
       "    </tr>\n",
       "    <tr>\n",
       "      <th>1</th>\n",
       "      <td>7.8</td>\n",
       "      <td>0.88</td>\n",
       "      <td>0.00</td>\n",
       "      <td>2.6</td>\n",
       "      <td>0.10</td>\n",
       "      <td>25.0</td>\n",
       "      <td>67.0</td>\n",
       "      <td>1.0</td>\n",
       "      <td>3.20</td>\n",
       "      <td>0.68</td>\n",
       "      <td>9.8</td>\n",
       "      <td>5</td>\n",
       "    </tr>\n",
       "    <tr>\n",
       "      <th>2</th>\n",
       "      <td>7.8</td>\n",
       "      <td>0.76</td>\n",
       "      <td>0.04</td>\n",
       "      <td>2.3</td>\n",
       "      <td>0.09</td>\n",
       "      <td>15.0</td>\n",
       "      <td>54.0</td>\n",
       "      <td>1.0</td>\n",
       "      <td>3.26</td>\n",
       "      <td>0.65</td>\n",
       "      <td>9.8</td>\n",
       "      <td>5</td>\n",
       "    </tr>\n",
       "    <tr>\n",
       "      <th>3</th>\n",
       "      <td>11.2</td>\n",
       "      <td>0.28</td>\n",
       "      <td>0.56</td>\n",
       "      <td>1.9</td>\n",
       "      <td>0.07</td>\n",
       "      <td>17.0</td>\n",
       "      <td>60.0</td>\n",
       "      <td>1.0</td>\n",
       "      <td>3.16</td>\n",
       "      <td>0.58</td>\n",
       "      <td>9.8</td>\n",
       "      <td>6</td>\n",
       "    </tr>\n",
       "    <tr>\n",
       "      <th>4</th>\n",
       "      <td>7.4</td>\n",
       "      <td>0.70</td>\n",
       "      <td>0.00</td>\n",
       "      <td>1.9</td>\n",
       "      <td>0.08</td>\n",
       "      <td>11.0</td>\n",
       "      <td>34.0</td>\n",
       "      <td>1.0</td>\n",
       "      <td>3.51</td>\n",
       "      <td>0.56</td>\n",
       "      <td>9.4</td>\n",
       "      <td>5</td>\n",
       "    </tr>\n",
       "  </tbody>\n",
       "</table>\n",
       "</div>"
      ],
      "text/plain": [
       "   fixed acidity  volatile acidity  citric acid  residual sugar  chlorides  \\\n",
       "0            7.4              0.70         0.00             1.9       0.08   \n",
       "1            7.8              0.88         0.00             2.6       0.10   \n",
       "2            7.8              0.76         0.04             2.3       0.09   \n",
       "3           11.2              0.28         0.56             1.9       0.07   \n",
       "4            7.4              0.70         0.00             1.9       0.08   \n",
       "\n",
       "   free sulfur dioxide  total sulfur dioxide  density    pH  sulphates  \\\n",
       "0                 11.0                  34.0      1.0  3.51       0.56   \n",
       "1                 25.0                  67.0      1.0  3.20       0.68   \n",
       "2                 15.0                  54.0      1.0  3.26       0.65   \n",
       "3                 17.0                  60.0      1.0  3.16       0.58   \n",
       "4                 11.0                  34.0      1.0  3.51       0.56   \n",
       "\n",
       "   alcohol  quality  \n",
       "0      9.4        5  \n",
       "1      9.8        5  \n",
       "2      9.8        5  \n",
       "3      9.8        6  \n",
       "4      9.4        5  "
      ]
     },
     "execution_count": 38,
     "metadata": {},
     "output_type": "execute_result"
    }
   ],
   "source": [
    "wine.head()"
   ]
  },
  {
   "cell_type": "code",
   "execution_count": 39,
   "metadata": {},
   "outputs": [
    {
     "name": "stdout",
     "output_type": "stream",
     "text": [
      "<class 'pandas.core.frame.DataFrame'>\n",
      "RangeIndex: 1599 entries, 0 to 1598\n",
      "Data columns (total 12 columns):\n",
      " #   Column                Non-Null Count  Dtype  \n",
      "---  ------                --------------  -----  \n",
      " 0   fixed acidity         1599 non-null   float64\n",
      " 1   volatile acidity      1599 non-null   float64\n",
      " 2   citric acid           1599 non-null   float64\n",
      " 3   residual sugar        1599 non-null   float64\n",
      " 4   chlorides             1599 non-null   float64\n",
      " 5   free sulfur dioxide   1599 non-null   float64\n",
      " 6   total sulfur dioxide  1599 non-null   float64\n",
      " 7   density               1599 non-null   float64\n",
      " 8   pH                    1599 non-null   float64\n",
      " 9   sulphates             1599 non-null   float64\n",
      " 10  alcohol               1599 non-null   float64\n",
      " 11  quality               1599 non-null   int64  \n",
      "dtypes: float64(11), int64(1)\n",
      "memory usage: 150.0 KB\n"
     ]
    }
   ],
   "source": [
    "wine.info()"
   ]
  },
  {
   "cell_type": "code",
   "execution_count": 40,
   "metadata": {},
   "outputs": [
    {
     "data": {
      "text/html": [
       "<div>\n",
       "<style scoped>\n",
       "    .dataframe tbody tr th:only-of-type {\n",
       "        vertical-align: middle;\n",
       "    }\n",
       "\n",
       "    .dataframe tbody tr th {\n",
       "        vertical-align: top;\n",
       "    }\n",
       "\n",
       "    .dataframe thead th {\n",
       "        text-align: right;\n",
       "    }\n",
       "</style>\n",
       "<table border=\"1\" class=\"dataframe\">\n",
       "  <thead>\n",
       "    <tr style=\"text-align: right;\">\n",
       "      <th></th>\n",
       "      <th>fixed acidity</th>\n",
       "      <th>volatile acidity</th>\n",
       "      <th>citric acid</th>\n",
       "      <th>residual sugar</th>\n",
       "      <th>chlorides</th>\n",
       "      <th>free sulfur dioxide</th>\n",
       "      <th>total sulfur dioxide</th>\n",
       "      <th>density</th>\n",
       "      <th>pH</th>\n",
       "      <th>sulphates</th>\n",
       "      <th>alcohol</th>\n",
       "      <th>quality</th>\n",
       "    </tr>\n",
       "  </thead>\n",
       "  <tbody>\n",
       "    <tr>\n",
       "      <th>count</th>\n",
       "      <td>1599.00</td>\n",
       "      <td>1599.00</td>\n",
       "      <td>1599.00</td>\n",
       "      <td>1599.00</td>\n",
       "      <td>1599.00</td>\n",
       "      <td>1599.00</td>\n",
       "      <td>1599.00</td>\n",
       "      <td>1.60e+03</td>\n",
       "      <td>1599.00</td>\n",
       "      <td>1599.00</td>\n",
       "      <td>1599.00</td>\n",
       "      <td>1599.00</td>\n",
       "    </tr>\n",
       "    <tr>\n",
       "      <th>mean</th>\n",
       "      <td>8.32</td>\n",
       "      <td>0.53</td>\n",
       "      <td>0.27</td>\n",
       "      <td>2.54</td>\n",
       "      <td>0.09</td>\n",
       "      <td>15.87</td>\n",
       "      <td>46.47</td>\n",
       "      <td>9.97e-01</td>\n",
       "      <td>3.31</td>\n",
       "      <td>0.66</td>\n",
       "      <td>10.42</td>\n",
       "      <td>5.64</td>\n",
       "    </tr>\n",
       "    <tr>\n",
       "      <th>std</th>\n",
       "      <td>1.74</td>\n",
       "      <td>0.18</td>\n",
       "      <td>0.19</td>\n",
       "      <td>1.41</td>\n",
       "      <td>0.05</td>\n",
       "      <td>10.46</td>\n",
       "      <td>32.90</td>\n",
       "      <td>1.89e-03</td>\n",
       "      <td>0.15</td>\n",
       "      <td>0.17</td>\n",
       "      <td>1.07</td>\n",
       "      <td>0.81</td>\n",
       "    </tr>\n",
       "    <tr>\n",
       "      <th>min</th>\n",
       "      <td>4.60</td>\n",
       "      <td>0.12</td>\n",
       "      <td>0.00</td>\n",
       "      <td>0.90</td>\n",
       "      <td>0.01</td>\n",
       "      <td>1.00</td>\n",
       "      <td>6.00</td>\n",
       "      <td>9.90e-01</td>\n",
       "      <td>2.74</td>\n",
       "      <td>0.33</td>\n",
       "      <td>8.40</td>\n",
       "      <td>3.00</td>\n",
       "    </tr>\n",
       "    <tr>\n",
       "      <th>25%</th>\n",
       "      <td>7.10</td>\n",
       "      <td>0.39</td>\n",
       "      <td>0.09</td>\n",
       "      <td>1.90</td>\n",
       "      <td>0.07</td>\n",
       "      <td>7.00</td>\n",
       "      <td>22.00</td>\n",
       "      <td>9.96e-01</td>\n",
       "      <td>3.21</td>\n",
       "      <td>0.55</td>\n",
       "      <td>9.50</td>\n",
       "      <td>5.00</td>\n",
       "    </tr>\n",
       "    <tr>\n",
       "      <th>50%</th>\n",
       "      <td>7.90</td>\n",
       "      <td>0.52</td>\n",
       "      <td>0.26</td>\n",
       "      <td>2.20</td>\n",
       "      <td>0.08</td>\n",
       "      <td>14.00</td>\n",
       "      <td>38.00</td>\n",
       "      <td>9.97e-01</td>\n",
       "      <td>3.31</td>\n",
       "      <td>0.62</td>\n",
       "      <td>10.20</td>\n",
       "      <td>6.00</td>\n",
       "    </tr>\n",
       "    <tr>\n",
       "      <th>75%</th>\n",
       "      <td>9.20</td>\n",
       "      <td>0.64</td>\n",
       "      <td>0.42</td>\n",
       "      <td>2.60</td>\n",
       "      <td>0.09</td>\n",
       "      <td>21.00</td>\n",
       "      <td>62.00</td>\n",
       "      <td>9.98e-01</td>\n",
       "      <td>3.40</td>\n",
       "      <td>0.73</td>\n",
       "      <td>11.10</td>\n",
       "      <td>6.00</td>\n",
       "    </tr>\n",
       "    <tr>\n",
       "      <th>max</th>\n",
       "      <td>15.90</td>\n",
       "      <td>1.58</td>\n",
       "      <td>1.00</td>\n",
       "      <td>15.50</td>\n",
       "      <td>0.61</td>\n",
       "      <td>72.00</td>\n",
       "      <td>289.00</td>\n",
       "      <td>1.00e+00</td>\n",
       "      <td>4.01</td>\n",
       "      <td>2.00</td>\n",
       "      <td>14.90</td>\n",
       "      <td>8.00</td>\n",
       "    </tr>\n",
       "  </tbody>\n",
       "</table>\n",
       "</div>"
      ],
      "text/plain": [
       "       fixed acidity  volatile acidity  citric acid  residual sugar  \\\n",
       "count        1599.00           1599.00      1599.00         1599.00   \n",
       "mean            8.32              0.53         0.27            2.54   \n",
       "std             1.74              0.18         0.19            1.41   \n",
       "min             4.60              0.12         0.00            0.90   \n",
       "25%             7.10              0.39         0.09            1.90   \n",
       "50%             7.90              0.52         0.26            2.20   \n",
       "75%             9.20              0.64         0.42            2.60   \n",
       "max            15.90              1.58         1.00           15.50   \n",
       "\n",
       "       chlorides  free sulfur dioxide  total sulfur dioxide   density  \\\n",
       "count    1599.00              1599.00               1599.00  1.60e+03   \n",
       "mean        0.09                15.87                 46.47  9.97e-01   \n",
       "std         0.05                10.46                 32.90  1.89e-03   \n",
       "min         0.01                 1.00                  6.00  9.90e-01   \n",
       "25%         0.07                 7.00                 22.00  9.96e-01   \n",
       "50%         0.08                14.00                 38.00  9.97e-01   \n",
       "75%         0.09                21.00                 62.00  9.98e-01   \n",
       "max         0.61                72.00                289.00  1.00e+00   \n",
       "\n",
       "            pH  sulphates  alcohol  quality  \n",
       "count  1599.00    1599.00  1599.00  1599.00  \n",
       "mean      3.31       0.66    10.42     5.64  \n",
       "std       0.15       0.17     1.07     0.81  \n",
       "min       2.74       0.33     8.40     3.00  \n",
       "25%       3.21       0.55     9.50     5.00  \n",
       "50%       3.31       0.62    10.20     6.00  \n",
       "75%       3.40       0.73    11.10     6.00  \n",
       "max       4.01       2.00    14.90     8.00  "
      ]
     },
     "execution_count": 40,
     "metadata": {},
     "output_type": "execute_result"
    }
   ],
   "source": [
    " wine.describe()"
   ]
  },
  {
   "cell_type": "markdown",
   "metadata": {},
   "source": [
    "# Exploratory Data Analysis"
   ]
  },
  {
   "cell_type": "code",
   "execution_count": 41,
   "metadata": {},
   "outputs": [
    {
     "data": {
      "image/png": "[encoded data removed]",
      "text/plain": [
       "<Figure size 720x576 with 2 Axes>"
      ]
     },
     "metadata": {},
     "output_type": "display_data"
    }
   ],
   "source": [
    "ax, figure = plt.subplots(figsize = (10, 8))\n",
    "correlation_matrix = wine.corr().round(2)\n",
    "#print(correlation_matrix)\n",
    "heatmap = sns.heatmap(correlation_matrix,annot = True, cmap =\"YlOrRd\")\n",
    "heatmap = plt.xticks(rotation = 70)"
   ]
  },
  {
   "cell_type": "markdown",
   "metadata": {},
   "source": [
    "Based on produced plot, the alcohol and quality seems to have higher corelation than others"
   ]
  },
  {
   "cell_type": "code",
   "execution_count": 42,
   "metadata": {},
   "outputs": [
    {
     "data": {
      "text/plain": [
       "<AxesSubplot:xlabel='quality', ylabel='volatile acidity'>"
      ]
     },
     "execution_count": 42,
     "metadata": {},
     "output_type": "execute_result"
    },
    {
     "data": {
      "image/png": "[encoded data removed]",
      "text/plain": [
       "<Figure size 720x432 with 1 Axes>"
      ]
     },
     "metadata": {},
     "output_type": "display_data"
    }
   ],
   "source": [
    "fig  = plt.figure(figsize =(10, 6))\n",
    "sns.barplot(x='quality', y = 'volatile acidity', data = wine)"
   ]
  },
  {
   "cell_type": "markdown",
   "metadata": {},
   "source": [
    "As we can see that volatile acidity goes down the quality goes up"
   ]
  },
  {
   "cell_type": "code",
   "execution_count": 43,
   "metadata": {},
   "outputs": [
    {
     "data": {
      "text/plain": [
       "<matplotlib.collections.PathCollection at 0x7f91481be730>"
      ]
     },
     "execution_count": 43,
     "metadata": {},
     "output_type": "execute_result"
    },
    {
     "data": {
      "image/png": "[encoded data removed]",
      "text/plain": [
       "<Figure size 720x432 with 1 Axes>"
      ]
     },
     "metadata": {},
     "output_type": "display_data"
    }
   ],
   "source": [
    "fig = plt.figure(figsize=(10, 6))\n",
    "plt.scatter(x='volatile acidity', y = 'quality', data=wine)"
   ]
  },
  {
   "cell_type": "code",
   "execution_count": 44,
   "metadata": {},
   "outputs": [
    {
     "data": {
      "text/plain": [
       "<AxesSubplot:xlabel='quality', ylabel='alcohol'>"
      ]
     },
     "execution_count": 44,
     "metadata": {},
     "output_type": "execute_result"
    },
    {
     "data": {
      "image/png": "[encoded data removed]",
      "text/plain": [
       "<Figure size 720x432 with 1 Axes>"
      ]
     },
     "metadata": {},
     "output_type": "display_data"
    }
   ],
   "source": [
    "fig = plt.figure(figsize=(10, 6))\n",
    "sns.barplot(x = 'quality', y = 'alcohol', data = wine)"
   ]
  },
  {
   "cell_type": "markdown",
   "metadata": {},
   "source": [
    "Qualiy goes higher when the alcohol goes up\n"
   ]
  },
  {
   "cell_type": "code",
   "execution_count": 45,
   "metadata": {},
   "outputs": [
    {
     "data": {
      "text/plain": [
       "<AxesSubplot:xlabel='quality', ylabel='sulphates'>"
      ]
     },
     "execution_count": 45,
     "metadata": {},
     "output_type": "execute_result"
    },
    {
     "data": {
      "image/png": "[encoded data removed]",
      "text/plain": [
       "<Figure size 720x432 with 1 Axes>"
      ]
     },
     "metadata": {},
     "output_type": "display_data"
    }
   ],
   "source": [
    "plt.figure(figsize=(10, 6))\n",
    "sns.barplot(x = 'quality', y = 'sulphates', data = wine)"
   ]
  },
  {
   "cell_type": "markdown",
   "metadata": {},
   "source": [
    "Same goes with sulphates, when sulphates increases the quality goes up"
   ]
  },
  {
   "cell_type": "markdown",
   "metadata": {},
   "source": [
    "\n",
    "## ML preprocessing"
   ]
  },
  {
   "cell_type": "markdown",
   "metadata": {},
   "source": [
    "#### binning"
   ]
  },
  {
   "cell_type": "code",
   "execution_count": 46,
   "metadata": {},
   "outputs": [],
   "source": [
    "bins = (3, 6, 8) # Values based on min median max of 'quality'\n",
    "bin_labels = ['bad', 'good']\n",
    "wine['quality'] = pd.cut(wine['quality'], bins = bins,labels = bin_labels)"
   ]
  },
  {
   "cell_type": "code",
   "execution_count": 47,
   "metadata": {},
   "outputs": [
    {
     "data": {
      "text/plain": [
       "0    bad\n",
       "1    bad\n",
       "2    bad\n",
       "3    bad\n",
       "4    bad\n",
       "Name: quality, dtype: category\n",
       "Categories (2, object): ['bad' < 'good']"
      ]
     },
     "execution_count": 47,
     "metadata": {},
     "output_type": "execute_result"
    }
   ],
   "source": [
    "wine['quality'].head()"
   ]
  },
  {
   "cell_type": "markdown",
   "metadata": {},
   "source": [
    "## Encode the categorical values"
   ]
  },
  {
   "cell_type": "code",
   "execution_count": 48,
   "metadata": {},
   "outputs": [],
   "source": [
    "enc = LabelEncoder()"
   ]
  },
  {
   "cell_type": "code",
   "execution_count": 49,
   "metadata": {},
   "outputs": [],
   "source": [
    "wine['quality'] = enc.fit_transform(wine['quality'])"
   ]
  },
  {
   "cell_type": "code",
   "execution_count": 50,
   "metadata": {},
   "outputs": [
    {
     "data": {
      "text/plain": [
       "0    1372\n",
       "1     217\n",
       "2      10\n",
       "Name: quality, dtype: int64"
      ]
     },
     "execution_count": 50,
     "metadata": {},
     "output_type": "execute_result"
    }
   ],
   "source": [
    "wine['quality'].value_counts()"
   ]
  },
  {
   "cell_type": "code",
   "execution_count": 51,
   "metadata": {},
   "outputs": [
    {
     "name": "stderr",
     "output_type": "stream",
     "text": [
      "/Users/rohithebbar/miniconda3/envs/mydlenv/lib/python3.8/site-packages/seaborn/_decorators.py:36: FutureWarning: Pass the following variable as a keyword arg: x. From version 0.12, the only valid positional argument will be `data`, and passing other arguments without an explicit keyword will result in an error or misinterpretation.\n",
      "  warnings.warn(\n"
     ]
    },
    {
     "data": {
      "image/png": "[encoded data removed]",
      "text/plain": [
       "<Figure size 432x288 with 1 Axes>"
      ]
     },
     "metadata": {},
     "output_type": "display_data"
    }
   ],
   "source": [
    "_ = sns.countplot(wine[\"quality\"])"
   ]
  },
  {
   "cell_type": "code",
   "execution_count": 52,
   "metadata": {},
   "outputs": [
    {
     "data": {
      "text/plain": [
       "0       0\n",
       "1       0\n",
       "2       0\n",
       "3       0\n",
       "4       0\n",
       "       ..\n",
       "1594    0\n",
       "1595    0\n",
       "1596    0\n",
       "1597    0\n",
       "1598    0\n",
       "Name: quality, Length: 1599, dtype: int64"
      ]
     },
     "execution_count": 52,
     "metadata": {},
     "output_type": "execute_result"
    }
   ],
   "source": [
    "wine['quality']"
   ]
  },
  {
   "cell_type": "code",
   "execution_count": 53,
   "metadata": {},
   "outputs": [
    {
     "data": {
      "text/plain": [
       "0       0\n",
       "1       0\n",
       "2       0\n",
       "3       0\n",
       "4       0\n",
       "       ..\n",
       "1594    0\n",
       "1595    0\n",
       "1596    0\n",
       "1597    0\n",
       "1598    0\n",
       "Name: quality, Length: 1599, dtype: int64"
      ]
     },
     "execution_count": 53,
     "metadata": {},
     "output_type": "execute_result"
    }
   ],
   "source": [
    "wine['quality']"
   ]
  },
  {
   "cell_type": "code",
   "execution_count": 54,
   "metadata": {},
   "outputs": [],
   "source": [
    "list = wine['quality']"
   ]
  },
  {
   "cell_type": "code",
   "execution_count": 55,
   "metadata": {},
   "outputs": [
    {
     "name": "stdout",
     "output_type": "stream",
     "text": [
      "0       0\n",
      "1       0\n",
      "2       0\n",
      "3       0\n",
      "4       0\n",
      "       ..\n",
      "1594    0\n",
      "1595    0\n",
      "1596    0\n",
      "1597    0\n",
      "1598    0\n",
      "Name: quality, Length: 1599, dtype: int64\n"
     ]
    }
   ],
   "source": [
    "print(list)"
   ]
  },
  {
   "cell_type": "markdown",
   "metadata": {},
   "source": [
    "## Spliting the dataset"
   ]
  },
  {
   "cell_type": "code",
   "execution_count": 56,
   "metadata": {},
   "outputs": [],
   "source": [
    "X = wine.drop('quality', axis = 1)\n",
    "y = wine['quality']"
   ]
  },
  {
   "cell_type": "code",
   "execution_count": 57,
   "metadata": {},
   "outputs": [],
   "source": [
    "X_train, X_test, y_train, y_test = train_test_split(X, y, test_size=0.2, random_state=42)"
   ]
  },
  {
   "cell_type": "markdown",
   "metadata": {},
   "source": [
    "## Feature scaling"
   ]
  },
  {
   "cell_type": "code",
   "execution_count": 58,
   "metadata": {},
   "outputs": [],
   "source": [
    "sc = StandardScaler()\n",
    "X_train = sc.fit_transform(X_train)\n",
    "X_test = sc.transform(X_test)"
   ]
  },
  {
   "cell_type": "markdown",
   "metadata": {},
   "source": [
    "## Decision Tree Model"
   ]
  },
  {
   "cell_type": "code",
   "execution_count": 59,
   "metadata": {},
   "outputs": [
    {
     "name": "stdout",
     "output_type": "stream",
     "text": [
      "#----------------TRAIN DATA------------------#\n",
      "train score : 88.51\n",
      "test score : 86.25\n"
     ]
    }
   ],
   "source": [
    "tree = DecisionTreeClassifier(max_depth = 2).fit(X_train, y_train)\n",
    "\n",
    "tree_test_pred = tree.predict(X_test)\n",
    "\n",
    "acc_train = tree.score(X_train, y_train)*100\n",
    "acc_test = tree.score(X_test, y_test)*100\n",
    "\n",
    "\n",
    "print(\"#----------------TRAIN DATA------------------#\")\n",
    "print(f'train score : {acc_train :.2f}')\n",
    "print(f'test score : {acc_test :.2f}')"
   ]
  },
  {
   "cell_type": "code",
   "execution_count": 60,
   "metadata": {},
   "outputs": [
    {
     "name": "stdout",
     "output_type": "stream",
     "text": [
      "[[262  10   0]\n",
      " [ 33  14   0]\n",
      " [  1   0   0]]\n"
     ]
    }
   ],
   "source": [
    "print(confusion_matrix(y_test, tree_test_pred))"
   ]
  },
  {
   "cell_type": "code",
   "execution_count": 61,
   "metadata": {},
   "outputs": [],
   "source": [
    "from sklearn.tree import export_graphviz\n",
    "export_graphviz(tree, out_file=\"tree.dot\", class_names=[\"bad\", \"good\"], feature_names=wine.drop(\"quality\", axis=1).columns, impurity=False, filled=True)"
   ]
  },
  {
   "cell_type": "code",
   "execution_count": 62,
   "metadata": {},
   "outputs": [
    {
     "data": {
      "image/svg+xml": [
       "<?xml version=\"1.0\" encoding=\"UTF-8\" standalone=\"no\"?>\n",
       "<!DOCTYPE svg PUBLIC \"-//W3C//DTD SVG 1.1//EN\"\n",
       " \"http://www.w3.org/Graphics/SVG/1.1/DTD/svg11.dtd\">\n",
       "<!-- Generated by graphviz version 2.47.0 (20210316.0004)\n",
       " -->\n",
       "<!-- Title: Tree Pages: 1 -->\n",
       "<svg width=\"562pt\" height=\"269pt\"\n",
       " viewBox=\"0.00 0.00 561.50 269.00\" xmlns=\"http://www.w3.org/2000/svg\" xmlns:xlink=\"http://www.w3.org/1999/xlink\">\n",
       "<g id=\"graph0\" class=\"graph\" transform=\"scale(1 1) rotate(0) translate(4 265)\">\n",
       "<title>Tree</title>\n",
       "<polygon fill=\"white\" stroke=\"transparent\" points=\"-4,4 -4,-265 557.5,-265 557.5,4 -4,4\"/>\n",
       "<!-- 0 -->\n",
       "<g id=\"node1\" class=\"node\">\n",
       "<title>0</title>\n",
       "<polygon fill=\"#e99559\" stroke=\"black\" points=\"352,-261 212,-261 212,-193 352,-193 352,-261\"/>\n",
       "<text text-anchor=\"middle\" x=\"282\" y=\"-245.8\" font-family=\"Times,serif\" font-size=\"14.00\">alcohol &lt;= 1.076</text>\n",
       "<text text-anchor=\"middle\" x=\"282\" y=\"-230.8\" font-family=\"Times,serif\" font-size=\"14.00\">samples = 1279</text>\n",
       "<text text-anchor=\"middle\" x=\"282\" y=\"-215.8\" font-family=\"Times,serif\" font-size=\"14.00\">value = [1100, 170, 9]</text>\n",
       "<text text-anchor=\"middle\" x=\"282\" y=\"-200.8\" font-family=\"Times,serif\" font-size=\"14.00\">class = bad</text>\n",
       "</g>\n",
       "<!-- 1 -->\n",
       "<g id=\"node2\" class=\"node\">\n",
       "<title>1</title>\n",
       "<polygon fill=\"#e78c4b\" stroke=\"black\" points=\"280.5,-157 123.5,-157 123.5,-89 280.5,-89 280.5,-157\"/>\n",
       "<text text-anchor=\"middle\" x=\"202\" y=\"-141.8\" font-family=\"Times,serif\" font-size=\"14.00\">volatile acidity &lt;= &#45;0.868</text>\n",
       "<text text-anchor=\"middle\" x=\"202\" y=\"-126.8\" font-family=\"Times,serif\" font-size=\"14.00\">samples = 1085</text>\n",
       "<text text-anchor=\"middle\" x=\"202\" y=\"-111.8\" font-family=\"Times,serif\" font-size=\"14.00\">value = [994, 82, 9]</text>\n",
       "<text text-anchor=\"middle\" x=\"202\" y=\"-96.8\" font-family=\"Times,serif\" font-size=\"14.00\">class = bad</text>\n",
       "</g>\n",
       "<!-- 0&#45;&gt;1 -->\n",
       "<g id=\"edge1\" class=\"edge\">\n",
       "<title>0&#45;&gt;1</title>\n",
       "<path fill=\"none\" stroke=\"black\" d=\"M256.03,-192.88C249.11,-184.07 241.55,-174.43 234.34,-165.24\"/>\n",
       "<polygon fill=\"black\" stroke=\"black\" points=\"237.04,-163.01 228.12,-157.3 231.53,-167.33 237.04,-163.01\"/>\n",
       "<text text-anchor=\"middle\" x=\"225.12\" y=\"-178.42\" font-family=\"Times,serif\" font-size=\"14.00\">True</text>\n",
       "</g>\n",
       "<!-- 4 -->\n",
       "<g id=\"node5\" class=\"node\">\n",
       "<title>4</title>\n",
       "<polygon fill=\"#fbeadd\" stroke=\"black\" points=\"425,-157 299,-157 299,-89 425,-89 425,-157\"/>\n",
       "<text text-anchor=\"middle\" x=\"362\" y=\"-141.8\" font-family=\"Times,serif\" font-size=\"14.00\">sulphates &lt;= 0.143</text>\n",
       "<text text-anchor=\"middle\" x=\"362\" y=\"-126.8\" font-family=\"Times,serif\" font-size=\"14.00\">samples = 194</text>\n",
       "<text text-anchor=\"middle\" x=\"362\" y=\"-111.8\" font-family=\"Times,serif\" font-size=\"14.00\">value = [106, 88, 0]</text>\n",
       "<text text-anchor=\"middle\" x=\"362\" y=\"-96.8\" font-family=\"Times,serif\" font-size=\"14.00\">class = bad</text>\n",
       "</g>\n",
       "<!-- 0&#45;&gt;4 -->\n",
       "<g id=\"edge4\" class=\"edge\">\n",
       "<title>0&#45;&gt;4</title>\n",
       "<path fill=\"none\" stroke=\"black\" d=\"M307.97,-192.88C314.89,-184.07 322.45,-174.43 329.66,-165.24\"/>\n",
       "<polygon fill=\"black\" stroke=\"black\" points=\"332.47,-167.33 335.88,-157.3 326.96,-163.01 332.47,-167.33\"/>\n",
       "<text text-anchor=\"middle\" x=\"338.88\" y=\"-178.42\" font-family=\"Times,serif\" font-size=\"14.00\">False</text>\n",
       "</g>\n",
       "<!-- 2 -->\n",
       "<g id=\"node3\" class=\"node\">\n",
       "<title>2</title>\n",
       "<polygon fill=\"#eda876\" stroke=\"black\" points=\"126,-53 0,-53 0,0 126,0 126,-53\"/>\n",
       "<text text-anchor=\"middle\" x=\"63\" y=\"-37.8\" font-family=\"Times,serif\" font-size=\"14.00\">samples = 182</text>\n",
       "<text text-anchor=\"middle\" x=\"63\" y=\"-22.8\" font-family=\"Times,serif\" font-size=\"14.00\">value = [139, 43, 0]</text>\n",
       "<text text-anchor=\"middle\" x=\"63\" y=\"-7.8\" font-family=\"Times,serif\" font-size=\"14.00\">class = bad</text>\n",
       "</g>\n",
       "<!-- 1&#45;&gt;2 -->\n",
       "<g id=\"edge2\" class=\"edge\">\n",
       "<title>1&#45;&gt;2</title>\n",
       "<path fill=\"none\" stroke=\"black\" d=\"M153.38,-88.95C139.12,-79.25 123.56,-68.68 109.44,-59.07\"/>\n",
       "<polygon fill=\"black\" stroke=\"black\" points=\"111.09,-55.96 100.86,-53.24 107.16,-61.75 111.09,-55.96\"/>\n",
       "</g>\n",
       "<!-- 3 -->\n",
       "<g id=\"node4\" class=\"node\">\n",
       "<title>3</title>\n",
       "<polygon fill=\"#e68844\" stroke=\"black\" points=\"270,-53 144,-53 144,0 270,0 270,-53\"/>\n",
       "<text text-anchor=\"middle\" x=\"207\" y=\"-37.8\" font-family=\"Times,serif\" font-size=\"14.00\">samples = 903</text>\n",
       "<text text-anchor=\"middle\" x=\"207\" y=\"-22.8\" font-family=\"Times,serif\" font-size=\"14.00\">value = [855, 39, 9]</text>\n",
       "<text text-anchor=\"middle\" x=\"207\" y=\"-7.8\" font-family=\"Times,serif\" font-size=\"14.00\">class = bad</text>\n",
       "</g>\n",
       "<!-- 1&#45;&gt;3 -->\n",
       "<g id=\"edge3\" class=\"edge\">\n",
       "<title>1&#45;&gt;3</title>\n",
       "<path fill=\"none\" stroke=\"black\" d=\"M203.75,-88.95C204.18,-80.72 204.65,-71.85 205.1,-63.48\"/>\n",
       "<polygon fill=\"black\" stroke=\"black\" points=\"208.6,-63.41 205.64,-53.24 201.61,-63.04 208.6,-63.41\"/>\n",
       "</g>\n",
       "<!-- 5 -->\n",
       "<g id=\"node6\" class=\"node\">\n",
       "<title>5</title>\n",
       "<polygon fill=\"#eead7e\" stroke=\"black\" points=\"416.5,-53 297.5,-53 297.5,0 416.5,0 416.5,-53\"/>\n",
       "<text text-anchor=\"middle\" x=\"357\" y=\"-37.8\" font-family=\"Times,serif\" font-size=\"14.00\">samples = 104</text>\n",
       "<text text-anchor=\"middle\" x=\"357\" y=\"-22.8\" font-family=\"Times,serif\" font-size=\"14.00\">value = [77, 27, 0]</text>\n",
       "<text text-anchor=\"middle\" x=\"357\" y=\"-7.8\" font-family=\"Times,serif\" font-size=\"14.00\">class = bad</text>\n",
       "</g>\n",
       "<!-- 4&#45;&gt;5 -->\n",
       "<g id=\"edge5\" class=\"edge\">\n",
       "<title>4&#45;&gt;5</title>\n",
       "<path fill=\"none\" stroke=\"black\" d=\"M360.25,-88.95C359.82,-80.72 359.35,-71.85 358.9,-63.48\"/>\n",
       "<polygon fill=\"black\" stroke=\"black\" points=\"362.39,-63.04 358.36,-53.24 355.4,-63.41 362.39,-63.04\"/>\n",
       "</g>\n",
       "<!-- 6 -->\n",
       "<g id=\"node7\" class=\"node\">\n",
       "<title>6</title>\n",
       "<polygon fill=\"#97f1bd\" stroke=\"black\" points=\"553.5,-53 434.5,-53 434.5,0 553.5,0 553.5,-53\"/>\n",
       "<text text-anchor=\"middle\" x=\"494\" y=\"-37.8\" font-family=\"Times,serif\" font-size=\"14.00\">samples = 90</text>\n",
       "<text text-anchor=\"middle\" x=\"494\" y=\"-22.8\" font-family=\"Times,serif\" font-size=\"14.00\">value = [29, 61, 0]</text>\n",
       "<text text-anchor=\"middle\" x=\"494\" y=\"-7.8\" font-family=\"Times,serif\" font-size=\"14.00\">class = good</text>\n",
       "</g>\n",
       "<!-- 4&#45;&gt;6 -->\n",
       "<g id=\"edge6\" class=\"edge\">\n",
       "<title>4&#45;&gt;6</title>\n",
       "<path fill=\"none\" stroke=\"black\" d=\"M408.17,-88.95C421.71,-79.25 436.49,-68.68 449.9,-59.07\"/>\n",
       "<polygon fill=\"black\" stroke=\"black\" points=\"451.96,-61.9 458.05,-53.24 447.88,-56.21 451.96,-61.9\"/>\n",
       "</g>\n",
       "</g>\n",
       "</svg>\n"
      ],
      "text/plain": [
       "<graphviz.files.Source at 0x7f9168197a60>"
      ]
     },
     "execution_count": 62,
     "metadata": {},
     "output_type": "execute_result"
    }
   ],
   "source": [
    "import graphviz\n",
    "with open(\"tree.dot\") as f:\n",
    "    dot_graph = f.read()\n",
    "graphviz.Source(dot_graph)"
   ]
  },
  {
   "cell_type": "code",
   "execution_count": 63,
   "metadata": {},
   "outputs": [
    {
     "name": "stdout",
     "output_type": "stream",
     "text": [
      "#----------------TRAIN DATA------------------#\n",
      "train score : 88.51\n",
      "test score : 86.25\n"
     ]
    }
   ],
   "source": [
    "tree1 = DecisionTreeClassifier(max_depth = 3).fit(X_train, y_train)\n",
    "tree_test_pred = tree.predict(X_test)\n",
    "acc_train = tree.score(X_train, y_train)*100\n",
    "acc_test = tree.score(X_test, y_test)*100\n",
    "\n",
    "print(\"#----------------TRAIN DATA------------------#\")\n",
    "print(f'train score : {acc_train :.2f}')\n",
    "print(f'test score : {acc_test :.2f}')"
   ]
  },
  {
   "cell_type": "code",
   "execution_count": 71,
   "metadata": {},
   "outputs": [
    {
     "name": "stdout",
     "output_type": "stream",
     "text": [
      "#----------------TRAIN DATA------------------#\n",
      "train score : 86.00\n",
      "test score : 85.00\n"
     ]
    }
   ],
   "source": [
    "tree1 = DecisionTreeClassifier(max_depth = 1).fit(X_train, y_train)\n",
    "tree_test_pred = tree.predict(X_test)\n",
    "acc_train = tree1.score(X_train, y_train)*100\n",
    "acc_test = tree1.score(X_test, y_test)*100\n",
    "\n",
    "print(\"#----------------TRAIN DATA------------------#\")\n",
    "print(f'train score : {acc_train :.2f}')\n",
    "print(f'test score : {acc_test :.2f}')"
   ]
  },
  {
   "cell_type": "code",
   "execution_count": 74,
   "metadata": {},
   "outputs": [],
   "source": [
    "export_graphviz(tree1, out_file=\"tree1.dot\", class_names=[\"bad\", \"good\"], feature_names=wine.drop(\"quality\", axis=1).columns, impurity=False, filled=True)"
   ]
  },
  {
   "cell_type": "code",
   "execution_count": 75,
   "metadata": {},
   "outputs": [
    {
     "data": {
      "image/svg+xml": [
       "<?xml version=\"1.0\" encoding=\"UTF-8\" standalone=\"no\"?>\n",
       "<!DOCTYPE svg PUBLIC \"-//W3C//DTD SVG 1.1//EN\"\n",
       " \"http://www.w3.org/Graphics/SVG/1.1/DTD/svg11.dtd\">\n",
       "<!-- Generated by graphviz version 2.47.0 (20210316.0004)\n",
       " -->\n",
       "<!-- Title: Tree Pages: 1 -->\n",
       "<svg width=\"278pt\" height=\"165pt\"\n",
       " viewBox=\"0.00 0.00 278.00 165.00\" xmlns=\"http://www.w3.org/2000/svg\" xmlns:xlink=\"http://www.w3.org/1999/xlink\">\n",
       "<g id=\"graph0\" class=\"graph\" transform=\"scale(1 1) rotate(0) translate(4 161)\">\n",
       "<title>Tree</title>\n",
       "<polygon fill=\"white\" stroke=\"transparent\" points=\"-4,4 -4,-161 274,-161 274,4 -4,4\"/>\n",
       "<!-- 0 -->\n",
       "<g id=\"node1\" class=\"node\">\n",
       "<title>0</title>\n",
       "<polygon fill=\"#e99559\" stroke=\"black\" points=\"205,-157 65,-157 65,-89 205,-89 205,-157\"/>\n",
       "<text text-anchor=\"middle\" x=\"135\" y=\"-141.8\" font-family=\"Times,serif\" font-size=\"14.00\">alcohol &lt;= 1.076</text>\n",
       "<text text-anchor=\"middle\" x=\"135\" y=\"-126.8\" font-family=\"Times,serif\" font-size=\"14.00\">samples = 1279</text>\n",
       "<text text-anchor=\"middle\" x=\"135\" y=\"-111.8\" font-family=\"Times,serif\" font-size=\"14.00\">value = [1100, 170, 9]</text>\n",
       "<text text-anchor=\"middle\" x=\"135\" y=\"-96.8\" font-family=\"Times,serif\" font-size=\"14.00\">class = bad</text>\n",
       "</g>\n",
       "<!-- 1 -->\n",
       "<g id=\"node2\" class=\"node\">\n",
       "<title>1</title>\n",
       "<polygon fill=\"#e78c4b\" stroke=\"black\" points=\"126,-53 0,-53 0,0 126,0 126,-53\"/>\n",
       "<text text-anchor=\"middle\" x=\"63\" y=\"-37.8\" font-family=\"Times,serif\" font-size=\"14.00\">samples = 1085</text>\n",
       "<text text-anchor=\"middle\" x=\"63\" y=\"-22.8\" font-family=\"Times,serif\" font-size=\"14.00\">value = [994, 82, 9]</text>\n",
       "<text text-anchor=\"middle\" x=\"63\" y=\"-7.8\" font-family=\"Times,serif\" font-size=\"14.00\">class = bad</text>\n",
       "</g>\n",
       "<!-- 0&#45;&gt;1 -->\n",
       "<g id=\"edge1\" class=\"edge\">\n",
       "<title>0&#45;&gt;1</title>\n",
       "<path fill=\"none\" stroke=\"black\" d=\"M109.82,-88.95C102.99,-79.98 95.58,-70.27 88.72,-61.26\"/>\n",
       "<polygon fill=\"black\" stroke=\"black\" points=\"91.45,-59.07 82.61,-53.24 85.89,-63.31 91.45,-59.07\"/>\n",
       "<text text-anchor=\"middle\" x=\"79.26\" y=\"-74.31\" font-family=\"Times,serif\" font-size=\"14.00\">True</text>\n",
       "</g>\n",
       "<!-- 2 -->\n",
       "<g id=\"node3\" class=\"node\">\n",
       "<title>2</title>\n",
       "<polygon fill=\"#fbeadd\" stroke=\"black\" points=\"270,-53 144,-53 144,0 270,0 270,-53\"/>\n",
       "<text text-anchor=\"middle\" x=\"207\" y=\"-37.8\" font-family=\"Times,serif\" font-size=\"14.00\">samples = 194</text>\n",
       "<text text-anchor=\"middle\" x=\"207\" y=\"-22.8\" font-family=\"Times,serif\" font-size=\"14.00\">value = [106, 88, 0]</text>\n",
       "<text text-anchor=\"middle\" x=\"207\" y=\"-7.8\" font-family=\"Times,serif\" font-size=\"14.00\">class = bad</text>\n",
       "</g>\n",
       "<!-- 0&#45;&gt;2 -->\n",
       "<g id=\"edge2\" class=\"edge\">\n",
       "<title>0&#45;&gt;2</title>\n",
       "<path fill=\"none\" stroke=\"black\" d=\"M160.18,-88.95C167.01,-79.98 174.42,-70.27 181.28,-61.26\"/>\n",
       "<polygon fill=\"black\" stroke=\"black\" points=\"184.11,-63.31 187.39,-53.24 178.55,-59.07 184.11,-63.31\"/>\n",
       "<text text-anchor=\"middle\" x=\"190.74\" y=\"-74.31\" font-family=\"Times,serif\" font-size=\"14.00\">False</text>\n",
       "</g>\n",
       "</g>\n",
       "</svg>\n"
      ],
      "text/plain": [
       "<graphviz.files.Source at 0x7f914026fac0>"
      ]
     },
     "execution_count": 75,
     "metadata": {},
     "output_type": "execute_result"
    }
   ],
   "source": [
    "import graphviz\n",
    "with open(\"tree1.dot\") as f:\n",
    "    dot_graph = f.read()\n",
    "graphviz.Source(dot_graph)"
   ]
  },
  {
   "cell_type": "code",
   "execution_count": 79,
   "metadata": {},
   "outputs": [
    {
     "name": "stdout",
     "output_type": "stream",
     "text": [
      "#----------------TRAIN DATA------------------#\n",
      "train score : 89.44\n",
      "test score : 85.62\n"
     ]
    }
   ],
   "source": [
    "tree2 = DecisionTreeClassifier(max_depth = 3).fit(X_train, y_train)\n",
    "tree_test_pred = tree2.predict(X_test)\n",
    "acc_train = tree2.score(X_train, y_train)*100\n",
    "acc_test = tree2.score(X_test, y_test)*100\n",
    "\n",
    "print(\"#----------------TRAIN DATA------------------#\")\n",
    "print(f'train score : {acc_train :.2f}')\n",
    "print(f'test score : {acc_test :.2f}')"
   ]
  },
  {
   "cell_type": "code",
   "execution_count": 80,
   "metadata": {},
   "outputs": [
    {
     "data": {
      "image/svg+xml": [
       "<?xml version=\"1.0\" encoding=\"UTF-8\" standalone=\"no\"?>\n",
       "<!DOCTYPE svg PUBLIC \"-//W3C//DTD SVG 1.1//EN\"\n",
       " \"http://www.w3.org/Graphics/SVG/1.1/DTD/svg11.dtd\">\n",
       "<!-- Generated by graphviz version 2.47.0 (20210316.0004)\n",
       " -->\n",
       "<!-- Title: Tree Pages: 1 -->\n",
       "<svg width=\"1094pt\" height=\"373pt\"\n",
       " viewBox=\"0.00 0.00 1094.00 373.00\" xmlns=\"http://www.w3.org/2000/svg\" xmlns:xlink=\"http://www.w3.org/1999/xlink\">\n",
       "<g id=\"graph0\" class=\"graph\" transform=\"scale(1 1) rotate(0) translate(4 369)\">\n",
       "<title>Tree</title>\n",
       "<polygon fill=\"white\" stroke=\"transparent\" points=\"-4,4 -4,-369 1090,-369 1090,4 -4,4\"/>\n",
       "<!-- 0 -->\n",
       "<g id=\"node1\" class=\"node\">\n",
       "<title>0</title>\n",
       "<polygon fill=\"#e99559\" stroke=\"black\" points=\"587.5,-365 447.5,-365 447.5,-297 587.5,-297 587.5,-365\"/>\n",
       "<text text-anchor=\"middle\" x=\"517.5\" y=\"-349.8\" font-family=\"Times,serif\" font-size=\"14.00\">alcohol &lt;= 1.076</text>\n",
       "<text text-anchor=\"middle\" x=\"517.5\" y=\"-334.8\" font-family=\"Times,serif\" font-size=\"14.00\">samples = 1279</text>\n",
       "<text text-anchor=\"middle\" x=\"517.5\" y=\"-319.8\" font-family=\"Times,serif\" font-size=\"14.00\">value = [1100, 170, 9]</text>\n",
       "<text text-anchor=\"middle\" x=\"517.5\" y=\"-304.8\" font-family=\"Times,serif\" font-size=\"14.00\">class = bad</text>\n",
       "</g>\n",
       "<!-- 1 -->\n",
       "<g id=\"node2\" class=\"node\">\n",
       "<title>1</title>\n",
       "<polygon fill=\"#e78c4b\" stroke=\"black\" points=\"511,-261 354,-261 354,-193 511,-193 511,-261\"/>\n",
       "<text text-anchor=\"middle\" x=\"432.5\" y=\"-245.8\" font-family=\"Times,serif\" font-size=\"14.00\">volatile acidity &lt;= &#45;0.868</text>\n",
       "<text text-anchor=\"middle\" x=\"432.5\" y=\"-230.8\" font-family=\"Times,serif\" font-size=\"14.00\">samples = 1085</text>\n",
       "<text text-anchor=\"middle\" x=\"432.5\" y=\"-215.8\" font-family=\"Times,serif\" font-size=\"14.00\">value = [994, 82, 9]</text>\n",
       "<text text-anchor=\"middle\" x=\"432.5\" y=\"-200.8\" font-family=\"Times,serif\" font-size=\"14.00\">class = bad</text>\n",
       "</g>\n",
       "<!-- 0&#45;&gt;1 -->\n",
       "<g id=\"edge1\" class=\"edge\">\n",
       "<title>0&#45;&gt;1</title>\n",
       "<path fill=\"none\" stroke=\"black\" d=\"M489.9,-296.88C482.55,-288.07 474.53,-278.43 466.86,-269.24\"/>\n",
       "<polygon fill=\"black\" stroke=\"black\" points=\"469.34,-266.74 460.25,-261.3 463.96,-271.22 469.34,-266.74\"/>\n",
       "<text text-anchor=\"middle\" x=\"457.99\" y=\"-282.5\" font-family=\"Times,serif\" font-size=\"14.00\">True</text>\n",
       "</g>\n",
       "<!-- 8 -->\n",
       "<g id=\"node9\" class=\"node\">\n",
       "<title>8</title>\n",
       "<polygon fill=\"#fbeadd\" stroke=\"black\" points=\"718.5,-261 592.5,-261 592.5,-193 718.5,-193 718.5,-261\"/>\n",
       "<text text-anchor=\"middle\" x=\"655.5\" y=\"-245.8\" font-family=\"Times,serif\" font-size=\"14.00\">sulphates &lt;= 0.143</text>\n",
       "<text text-anchor=\"middle\" x=\"655.5\" y=\"-230.8\" font-family=\"Times,serif\" font-size=\"14.00\">samples = 194</text>\n",
       "<text text-anchor=\"middle\" x=\"655.5\" y=\"-215.8\" font-family=\"Times,serif\" font-size=\"14.00\">value = [106, 88, 0]</text>\n",
       "<text text-anchor=\"middle\" x=\"655.5\" y=\"-200.8\" font-family=\"Times,serif\" font-size=\"14.00\">class = bad</text>\n",
       "</g>\n",
       "<!-- 0&#45;&gt;8 -->\n",
       "<g id=\"edge8\" class=\"edge\">\n",
       "<title>0&#45;&gt;8</title>\n",
       "<path fill=\"none\" stroke=\"black\" d=\"M562.3,-296.88C575.08,-287.44 589.12,-277.06 602.34,-267.29\"/>\n",
       "<polygon fill=\"black\" stroke=\"black\" points=\"604.49,-270.06 610.45,-261.3 600.33,-264.43 604.49,-270.06\"/>\n",
       "<text text-anchor=\"middle\" x=\"606.74\" y=\"-282.32\" font-family=\"Times,serif\" font-size=\"14.00\">False</text>\n",
       "</g>\n",
       "<!-- 2 -->\n",
       "<g id=\"node3\" class=\"node\">\n",
       "<title>2</title>\n",
       "<polygon fill=\"#eda876\" stroke=\"black\" points=\"259.5,-157 133.5,-157 133.5,-89 259.5,-89 259.5,-157\"/>\n",
       "<text text-anchor=\"middle\" x=\"196.5\" y=\"-141.8\" font-family=\"Times,serif\" font-size=\"14.00\">alcohol &lt;= 0.315</text>\n",
       "<text text-anchor=\"middle\" x=\"196.5\" y=\"-126.8\" font-family=\"Times,serif\" font-size=\"14.00\">samples = 182</text>\n",
       "<text text-anchor=\"middle\" x=\"196.5\" y=\"-111.8\" font-family=\"Times,serif\" font-size=\"14.00\">value = [139, 43, 0]</text>\n",
       "<text text-anchor=\"middle\" x=\"196.5\" y=\"-96.8\" font-family=\"Times,serif\" font-size=\"14.00\">class = bad</text>\n",
       "</g>\n",
       "<!-- 1&#45;&gt;2 -->\n",
       "<g id=\"edge2\" class=\"edge\">\n",
       "<title>1&#45;&gt;2</title>\n",
       "<path fill=\"none\" stroke=\"black\" d=\"M355.88,-192.88C327.94,-180.81 296.47,-167.21 268.91,-155.3\"/>\n",
       "<polygon fill=\"black\" stroke=\"black\" points=\"270.3,-152.08 259.73,-151.33 267.52,-158.51 270.3,-152.08\"/>\n",
       "</g>\n",
       "<!-- 5 -->\n",
       "<g id=\"node6\" class=\"node\">\n",
       "<title>5</title>\n",
       "<polygon fill=\"#e68844\" stroke=\"black\" points=\"495.5,-157 369.5,-157 369.5,-89 495.5,-89 495.5,-157\"/>\n",
       "<text text-anchor=\"middle\" x=\"432.5\" y=\"-141.8\" font-family=\"Times,serif\" font-size=\"14.00\">alcohol &lt;= &#45;0.54</text>\n",
       "<text text-anchor=\"middle\" x=\"432.5\" y=\"-126.8\" font-family=\"Times,serif\" font-size=\"14.00\">samples = 903</text>\n",
       "<text text-anchor=\"middle\" x=\"432.5\" y=\"-111.8\" font-family=\"Times,serif\" font-size=\"14.00\">value = [855, 39, 9]</text>\n",
       "<text text-anchor=\"middle\" x=\"432.5\" y=\"-96.8\" font-family=\"Times,serif\" font-size=\"14.00\">class = bad</text>\n",
       "</g>\n",
       "<!-- 1&#45;&gt;5 -->\n",
       "<g id=\"edge5\" class=\"edge\">\n",
       "<title>1&#45;&gt;5</title>\n",
       "<path fill=\"none\" stroke=\"black\" d=\"M432.5,-192.88C432.5,-184.78 432.5,-175.98 432.5,-167.47\"/>\n",
       "<polygon fill=\"black\" stroke=\"black\" points=\"436,-167.3 432.5,-157.3 429,-167.3 436,-167.3\"/>\n",
       "</g>\n",
       "<!-- 3 -->\n",
       "<g id=\"node4\" class=\"node\">\n",
       "<title>3</title>\n",
       "<polygon fill=\"#e99456\" stroke=\"black\" points=\"119,-53 0,-53 0,0 119,0 119,-53\"/>\n",
       "<text text-anchor=\"middle\" x=\"59.5\" y=\"-37.8\" font-family=\"Times,serif\" font-size=\"14.00\">samples = 109</text>\n",
       "<text text-anchor=\"middle\" x=\"59.5\" y=\"-22.8\" font-family=\"Times,serif\" font-size=\"14.00\">value = [95, 14, 0]</text>\n",
       "<text text-anchor=\"middle\" x=\"59.5\" y=\"-7.8\" font-family=\"Times,serif\" font-size=\"14.00\">class = bad</text>\n",
       "</g>\n",
       "<!-- 2&#45;&gt;3 -->\n",
       "<g id=\"edge3\" class=\"edge\">\n",
       "<title>2&#45;&gt;3</title>\n",
       "<path fill=\"none\" stroke=\"black\" d=\"M148.58,-88.95C134.53,-79.25 119.19,-68.68 105.27,-59.07\"/>\n",
       "<polygon fill=\"black\" stroke=\"black\" points=\"107.03,-56.03 96.81,-53.24 103.06,-61.8 107.03,-56.03\"/>\n",
       "</g>\n",
       "<!-- 4 -->\n",
       "<g id=\"node5\" class=\"node\">\n",
       "<title>4</title>\n",
       "<polygon fill=\"#f6d4bc\" stroke=\"black\" points=\"256,-53 137,-53 137,0 256,0 256,-53\"/>\n",
       "<text text-anchor=\"middle\" x=\"196.5\" y=\"-37.8\" font-family=\"Times,serif\" font-size=\"14.00\">samples = 73</text>\n",
       "<text text-anchor=\"middle\" x=\"196.5\" y=\"-22.8\" font-family=\"Times,serif\" font-size=\"14.00\">value = [44, 29, 0]</text>\n",
       "<text text-anchor=\"middle\" x=\"196.5\" y=\"-7.8\" font-family=\"Times,serif\" font-size=\"14.00\">class = bad</text>\n",
       "</g>\n",
       "<!-- 2&#45;&gt;4 -->\n",
       "<g id=\"edge4\" class=\"edge\">\n",
       "<title>2&#45;&gt;4</title>\n",
       "<path fill=\"none\" stroke=\"black\" d=\"M196.5,-88.95C196.5,-80.72 196.5,-71.85 196.5,-63.48\"/>\n",
       "<polygon fill=\"black\" stroke=\"black\" points=\"200,-63.24 196.5,-53.24 193,-63.24 200,-63.24\"/>\n",
       "</g>\n",
       "<!-- 6 -->\n",
       "<g id=\"node7\" class=\"node\">\n",
       "<title>6</title>\n",
       "<polygon fill=\"#e5833d\" stroke=\"black\" points=\"393,-53 274,-53 274,0 393,0 393,-53\"/>\n",
       "<text text-anchor=\"middle\" x=\"333.5\" y=\"-37.8\" font-family=\"Times,serif\" font-size=\"14.00\">samples = 454</text>\n",
       "<text text-anchor=\"middle\" x=\"333.5\" y=\"-22.8\" font-family=\"Times,serif\" font-size=\"14.00\">value = [446, 4, 4]</text>\n",
       "<text text-anchor=\"middle\" x=\"333.5\" y=\"-7.8\" font-family=\"Times,serif\" font-size=\"14.00\">class = bad</text>\n",
       "</g>\n",
       "<!-- 5&#45;&gt;6 -->\n",
       "<g id=\"edge6\" class=\"edge\">\n",
       "<title>5&#45;&gt;6</title>\n",
       "<path fill=\"none\" stroke=\"black\" d=\"M397.87,-88.95C388.1,-79.62 377.47,-69.47 367.72,-60.16\"/>\n",
       "<polygon fill=\"black\" stroke=\"black\" points=\"370.11,-57.61 360.46,-53.24 365.28,-62.67 370.11,-57.61\"/>\n",
       "</g>\n",
       "<!-- 7 -->\n",
       "<g id=\"node8\" class=\"node\">\n",
       "<title>7</title>\n",
       "<polygon fill=\"#e88d4c\" stroke=\"black\" points=\"537.5,-53 411.5,-53 411.5,0 537.5,0 537.5,-53\"/>\n",
       "<text text-anchor=\"middle\" x=\"474.5\" y=\"-37.8\" font-family=\"Times,serif\" font-size=\"14.00\">samples = 449</text>\n",
       "<text text-anchor=\"middle\" x=\"474.5\" y=\"-22.8\" font-family=\"Times,serif\" font-size=\"14.00\">value = [409, 35, 5]</text>\n",
       "<text text-anchor=\"middle\" x=\"474.5\" y=\"-7.8\" font-family=\"Times,serif\" font-size=\"14.00\">class = bad</text>\n",
       "</g>\n",
       "<!-- 5&#45;&gt;7 -->\n",
       "<g id=\"edge7\" class=\"edge\">\n",
       "<title>5&#45;&gt;7</title>\n",
       "<path fill=\"none\" stroke=\"black\" d=\"M447.19,-88.95C450.97,-80.44 455.05,-71.26 458.88,-62.65\"/>\n",
       "<polygon fill=\"black\" stroke=\"black\" points=\"462.2,-63.8 463.06,-53.24 455.8,-60.95 462.2,-63.8\"/>\n",
       "</g>\n",
       "<!-- 9 -->\n",
       "<g id=\"node10\" class=\"node\">\n",
       "<title>9</title>\n",
       "<polygon fill=\"#eead7e\" stroke=\"black\" points=\"745,-157 566,-157 566,-89 745,-89 745,-157\"/>\n",
       "<text text-anchor=\"middle\" x=\"655.5\" y=\"-141.8\" font-family=\"Times,serif\" font-size=\"14.00\">total sulfur dioxide &lt;= &#45;0.946</text>\n",
       "<text text-anchor=\"middle\" x=\"655.5\" y=\"-126.8\" font-family=\"Times,serif\" font-size=\"14.00\">samples = 104</text>\n",
       "<text text-anchor=\"middle\" x=\"655.5\" y=\"-111.8\" font-family=\"Times,serif\" font-size=\"14.00\">value = [77, 27, 0]</text>\n",
       "<text text-anchor=\"middle\" x=\"655.5\" y=\"-96.8\" font-family=\"Times,serif\" font-size=\"14.00\">class = bad</text>\n",
       "</g>\n",
       "<!-- 8&#45;&gt;9 -->\n",
       "<g id=\"edge9\" class=\"edge\">\n",
       "<title>8&#45;&gt;9</title>\n",
       "<path fill=\"none\" stroke=\"black\" d=\"M655.5,-192.88C655.5,-184.78 655.5,-175.98 655.5,-167.47\"/>\n",
       "<polygon fill=\"black\" stroke=\"black\" points=\"659,-167.3 655.5,-157.3 652,-167.3 659,-167.3\"/>\n",
       "</g>\n",
       "<!-- 12 -->\n",
       "<g id=\"node13\" class=\"node\">\n",
       "<title>12</title>\n",
       "<polygon fill=\"#97f1bd\" stroke=\"black\" points=\"975.5,-157 803.5,-157 803.5,-89 975.5,-89 975.5,-157\"/>\n",
       "<text text-anchor=\"middle\" x=\"889.5\" y=\"-141.8\" font-family=\"Times,serif\" font-size=\"14.00\">free sulfur dioxide &lt;= 0.255</text>\n",
       "<text text-anchor=\"middle\" x=\"889.5\" y=\"-126.8\" font-family=\"Times,serif\" font-size=\"14.00\">samples = 90</text>\n",
       "<text text-anchor=\"middle\" x=\"889.5\" y=\"-111.8\" font-family=\"Times,serif\" font-size=\"14.00\">value = [29, 61, 0]</text>\n",
       "<text text-anchor=\"middle\" x=\"889.5\" y=\"-96.8\" font-family=\"Times,serif\" font-size=\"14.00\">class = good</text>\n",
       "</g>\n",
       "<!-- 8&#45;&gt;12 -->\n",
       "<g id=\"edge12\" class=\"edge\">\n",
       "<title>8&#45;&gt;12</title>\n",
       "<path fill=\"none\" stroke=\"black\" d=\"M718.52,-198.53C744.78,-187.08 775.7,-173.6 803.98,-161.28\"/>\n",
       "<polygon fill=\"black\" stroke=\"black\" points=\"805.68,-164.35 813.45,-157.15 802.89,-157.94 805.68,-164.35\"/>\n",
       "</g>\n",
       "<!-- 10 -->\n",
       "<g id=\"node11\" class=\"node\">\n",
       "<title>10</title>\n",
       "<polygon fill=\"#c1f7d8\" stroke=\"black\" points=\"675,-53 556,-53 556,0 675,0 675,-53\"/>\n",
       "<text text-anchor=\"middle\" x=\"615.5\" y=\"-37.8\" font-family=\"Times,serif\" font-size=\"14.00\">samples = 27</text>\n",
       "<text text-anchor=\"middle\" x=\"615.5\" y=\"-22.8\" font-family=\"Times,serif\" font-size=\"14.00\">value = [11, 16, 0]</text>\n",
       "<text text-anchor=\"middle\" x=\"615.5\" y=\"-7.8\" font-family=\"Times,serif\" font-size=\"14.00\">class = good</text>\n",
       "</g>\n",
       "<!-- 9&#45;&gt;10 -->\n",
       "<g id=\"edge10\" class=\"edge\">\n",
       "<title>9&#45;&gt;10</title>\n",
       "<path fill=\"none\" stroke=\"black\" d=\"M641.51,-88.95C637.91,-80.44 634.02,-71.26 630.38,-62.65\"/>\n",
       "<polygon fill=\"black\" stroke=\"black\" points=\"633.52,-61.08 626.39,-53.24 627.07,-63.81 633.52,-61.08\"/>\n",
       "</g>\n",
       "<!-- 11 -->\n",
       "<g id=\"node12\" class=\"node\">\n",
       "<title>11</title>\n",
       "<polygon fill=\"#e9965a\" stroke=\"black\" points=\"812,-53 693,-53 693,0 812,0 812,-53\"/>\n",
       "<text text-anchor=\"middle\" x=\"752.5\" y=\"-37.8\" font-family=\"Times,serif\" font-size=\"14.00\">samples = 77</text>\n",
       "<text text-anchor=\"middle\" x=\"752.5\" y=\"-22.8\" font-family=\"Times,serif\" font-size=\"14.00\">value = [66, 11, 0]</text>\n",
       "<text text-anchor=\"middle\" x=\"752.5\" y=\"-7.8\" font-family=\"Times,serif\" font-size=\"14.00\">class = bad</text>\n",
       "</g>\n",
       "<!-- 9&#45;&gt;11 -->\n",
       "<g id=\"edge11\" class=\"edge\">\n",
       "<title>9&#45;&gt;11</title>\n",
       "<path fill=\"none\" stroke=\"black\" d=\"M689.43,-88.95C698.91,-79.71 709.21,-69.67 718.69,-60.44\"/>\n",
       "<polygon fill=\"black\" stroke=\"black\" points=\"721.36,-62.72 726.08,-53.24 716.48,-57.71 721.36,-62.72\"/>\n",
       "</g>\n",
       "<!-- 13 -->\n",
       "<g id=\"node14\" class=\"node\">\n",
       "<title>13</title>\n",
       "<polygon fill=\"#68eb9f\" stroke=\"black\" points=\"949,-53 830,-53 830,0 949,0 949,-53\"/>\n",
       "<text text-anchor=\"middle\" x=\"889.5\" y=\"-37.8\" font-family=\"Times,serif\" font-size=\"14.00\">samples = 63</text>\n",
       "<text text-anchor=\"middle\" x=\"889.5\" y=\"-22.8\" font-family=\"Times,serif\" font-size=\"14.00\">value = [12, 51, 0]</text>\n",
       "<text text-anchor=\"middle\" x=\"889.5\" y=\"-7.8\" font-family=\"Times,serif\" font-size=\"14.00\">class = good</text>\n",
       "</g>\n",
       "<!-- 12&#45;&gt;13 -->\n",
       "<g id=\"edge13\" class=\"edge\">\n",
       "<title>12&#45;&gt;13</title>\n",
       "<path fill=\"none\" stroke=\"black\" d=\"M889.5,-88.95C889.5,-80.72 889.5,-71.85 889.5,-63.48\"/>\n",
       "<polygon fill=\"black\" stroke=\"black\" points=\"893,-63.24 889.5,-53.24 886,-63.24 893,-63.24\"/>\n",
       "</g>\n",
       "<!-- 14 -->\n",
       "<g id=\"node15\" class=\"node\">\n",
       "<title>14</title>\n",
       "<polygon fill=\"#f4cbad\" stroke=\"black\" points=\"1086,-53 967,-53 967,0 1086,0 1086,-53\"/>\n",
       "<text text-anchor=\"middle\" x=\"1026.5\" y=\"-37.8\" font-family=\"Times,serif\" font-size=\"14.00\">samples = 27</text>\n",
       "<text text-anchor=\"middle\" x=\"1026.5\" y=\"-22.8\" font-family=\"Times,serif\" font-size=\"14.00\">value = [17, 10, 0]</text>\n",
       "<text text-anchor=\"middle\" x=\"1026.5\" y=\"-7.8\" font-family=\"Times,serif\" font-size=\"14.00\">class = bad</text>\n",
       "</g>\n",
       "<!-- 12&#45;&gt;14 -->\n",
       "<g id=\"edge14\" class=\"edge\">\n",
       "<title>12&#45;&gt;14</title>\n",
       "<path fill=\"none\" stroke=\"black\" d=\"M937.42,-88.95C951.47,-79.25 966.81,-68.68 980.73,-59.07\"/>\n",
       "<polygon fill=\"black\" stroke=\"black\" points=\"982.94,-61.8 989.19,-53.24 978.97,-56.03 982.94,-61.8\"/>\n",
       "</g>\n",
       "</g>\n",
       "</svg>\n"
      ],
      "text/plain": [
       "<graphviz.files.Source at 0x7f917c0cc670>"
      ]
     },
     "execution_count": 80,
     "metadata": {},
     "output_type": "execute_result"
    }
   ],
   "source": [
    "export_graphviz(tree2, out_file=\"tree2.dot\", class_names=[\"bad\", \"good\"], feature_names=wine.drop(\"quality\", axis=1).columns, impurity=False, filled=True)\n",
    "\n",
    "import graphviz\n",
    "with open(\"tree2.dot\") as f:\n",
    "    dot_graph = f.read()\n",
    "graphviz.Source(dot_graph)"
   ]
  },
  {
   "cell_type": "code",
   "execution_count": 94,
   "metadata": {},
   "outputs": [
    {
     "name": "stdout",
     "output_type": "stream",
     "text": [
      "#----------------TRAIN DATA------------------#\n",
      "train score : 100.00\n",
      "test score : 87.50\n"
     ]
    }
   ],
   "source": [
    "tree4 = DecisionTreeClassifier(max_depth = 20).fit(X_train, y_train)\n",
    "tree_test_pred = tree4.predict(X_test)\n",
    "acc_train = tree4.score(X_train, y_train)*100\n",
    "acc_test = tree4.score(X_test, y_test)*100\n",
    "\n",
    "print(\"#----------------TRAIN DATA------------------#\")\n",
    "print(f'train score : {acc_train :.2f}')\n",
    "print(f'test score : {acc_test :.2f}')"
   ]
  },
  {
   "cell_type": "markdown",
   "metadata": {},
   "source": [
    "## Random Forest Model"
   ]
  },
  {
   "cell_type": "code",
   "execution_count": 96,
   "metadata": {},
   "outputs": [
    {
     "name": "stdout",
     "output_type": "stream",
     "text": [
      "# ------------METRICS---------------- #\n",
      "Train Score: 99.22\n",
      "Test Score: 90.00\n"
     ]
    }
   ],
   "source": [
    "rfc = RandomForestClassifier(n_estimators = 7).fit(X_train, y_train)\n",
    "\n",
    "acc_train = rfc.score(X_train, y_train)*100\n",
    "acc_test = rfc.score(X_test, y_test)*100\n",
    "\n",
    "print(\"# ------------METRICS---------------- #\")\n",
    "print(\"Train Score: {:.2f}\".format(acc_train))\n",
    "print(\"Test Score: {:.2f}\".format(acc_test))\n"
   ]
  },
  {
   "cell_type": "code",
   "execution_count": null,
   "metadata": {},
   "outputs": [],
   "source": []
  }
 ],
 "metadata": {
  "kernelspec": {
   "display_name": "mydlenv",
   "language": "python",
   "name": "mydlenv"
  },
  "language_info": {
   "codemirror_mode": {
    "name": "ipython",
    "version": 3
   },
   "file_extension": ".py",
   "mimetype": "text/x-python",
   "name": "python",
   "nbconvert_exporter": "python",
   "pygments_lexer": "ipython3",
   "version": "3.8.2"
  }
 },
 "nbformat": 4,
 "nbformat_minor": 4
}
