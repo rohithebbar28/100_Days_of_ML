{
 "cells": [
  {
   "cell_type": "code",
   "execution_count": 3,
   "id": "structural-statement",
   "metadata": {},
   "outputs": [],
   "source": [
    "import numpy as np\n",
    "from sklearn.datasets import make_blobs"
   ]
  },
  {
   "cell_type": "code",
   "execution_count": 5,
   "id": "literary-cooperation",
   "metadata": {},
   "outputs": [
    {
     "name": "stdout",
     "output_type": "stream",
     "text": [
      "Cost after iteration 0 : 0.6931471805599454\n",
      "Cost after iteration 1000 : 0.008359817575046776\n",
      "Accuracy : 1.0\n"
     ]
    }
   ],
   "source": [
    "class LogisticRegression:\n",
    "    def __init__(self, X):\n",
    "        self.lr = 0.01\n",
    "        self.epochs = 1000\n",
    "        self.m, self.n = X.shape\n",
    "        self.weights = np.zeros((self.n, 1))\n",
    "        self.bias = 0\n",
    "        \n",
    "        \n",
    "    def sigmoid(self, z):\n",
    "        return 1 / (1 + np.exp(-z))\n",
    "    \n",
    "    def cost(self, y_predict):\n",
    "        return (-1 / self.m * np.sum(y * np.log(y_predict) + (1 - y)* np.log(1 - y_predict)))\n",
    "    \n",
    "    def gradient(self, y_predict):\n",
    "        dw = 1 / self.m * np.dot(X.T, (y_predict - y))\n",
    "        db = 1 / self.m * np.sum(y_predict - y)\n",
    "        return dw, db\n",
    "    \n",
    "    def run(self, X, y):\n",
    "        for epoch in range(self.epochs + 1):\n",
    "            \n",
    "            y_predict = self.sigmoid(np.dot(X, self.weights) + self.bias)\n",
    "            cost = self.cost(y_predict)\n",
    "            dw, db = self.gradient(y_predict)\n",
    "            \n",
    "            self.weights -= self.lr * dw\n",
    "            self.bias -= self.lr * db\n",
    "            \n",
    "            if epoch % 1000 == 0:\n",
    "                print(f'Cost after iteration {epoch} : {cost}')\n",
    "                \n",
    "        return self.weights, self.bias\n",
    "    \n",
    "    def predict(self, X):\n",
    "        y_predict = self.sigmoid(np.dot(X, self.weights) + self.bias)\n",
    "        y_predict_labels = y_predict > 0.5\n",
    "        \n",
    "        return y_predict_labels\n",
    "    \n",
    "    \n",
    "if __name__ == \"__main__\":\n",
    "    np.random.seed(1)\n",
    "    X, y = make_blobs(n_samples = 1000, centers=2)\n",
    "    y = y[: , np.newaxis]\n",
    "    logreg = LogisticRegression(X)\n",
    "    w, b = logreg.run(X, y)\n",
    "    y_predict = logreg.predict(X)\n",
    "    \n",
    "    print(f'Accuracy : {np.sum(y==y_predict)/X.shape[0]}')"
   ]
  },
  {
   "cell_type": "code",
   "execution_count": null,
   "id": "advanced-affairs",
   "metadata": {},
   "outputs": [],
   "source": []
  }
 ],
 "metadata": {
  "kernelspec": {
   "display_name": "mydlenv",
   "language": "python",
   "name": "mydlenv"
  },
  "language_info": {
   "codemirror_mode": {
    "name": "ipython",
    "version": 3
   },
   "file_extension": ".py",
   "mimetype": "text/x-python",
   "name": "python",
   "nbconvert_exporter": "python",
   "pygments_lexer": "ipython3",
   "version": "3.8.2"
  },
  "latex_envs": {
   "LaTeX_envs_menu_present": true,
   "autoclose": false,
   "autocomplete": true,
   "bibliofile": "biblio.bib",
   "cite_by": "apalike",
   "current_citInitial": 1,
   "eqLabelWithNumbers": true,
   "eqNumInitial": 1,
   "hotkeys": {
    "equation": "Ctrl-E",
    "itemize": "Ctrl-I"
   },
   "labels_anchors": false,
   "latex_user_defs": false,
   "report_style_numbering": false,
   "user_envs_cfg": false
  }
 },
 "nbformat": 4,
 "nbformat_minor": 5
}
