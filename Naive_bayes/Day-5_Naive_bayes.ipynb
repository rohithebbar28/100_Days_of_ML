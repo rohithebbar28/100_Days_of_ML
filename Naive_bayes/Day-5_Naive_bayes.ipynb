{
 "cells": [
  {
   "cell_type": "code",
   "execution_count": null,
   "id": "functioning-tanzania",
   "metadata": {},
   "outputs": [],
   "source": []
  },
  {
   "cell_type": "code",
   "execution_count": 7,
   "id": "minimal-promotion",
   "metadata": {},
   "outputs": [
    {
     "name": "stdout",
     "output_type": "stream",
     "text": [
      "Accuracy: 0.9\n"
     ]
    }
   ],
   "source": [
    "import numpy as np\n",
    "\n",
    "class NaiveBayes:\n",
    "    def __init__(self, X, y):\n",
    "        self.num_examples, self.num_features = X.shape\n",
    "        self.num_classes = len(np.unique(y))\n",
    "        self.e = 1e-6\n",
    "        self.mean = {}\n",
    "        self.variance = {}\n",
    "        self.prior_prob = {}\n",
    "        \n",
    "\n",
    "    def fit(self, X):\n",
    "\n",
    "        for cls in range(self.num_classes):\n",
    "            X_cls = X[y == cls]\n",
    "\n",
    "            self.mean[str(cls)] = np.mean(X_cls, axis=0)\n",
    "            self.variance[str(cls)] = np.var(X_cls, axis=0)\n",
    "            self.prior_prob[str(cls)] = X_cls.shape[0] / X.shape[0]\n",
    "\n",
    "    def predict(self, X):\n",
    "        probs = np.zeros((self.num_examples, self.num_classes))\n",
    "\n",
    "        for cls in range(self.num_classes):\n",
    "            cls_prob = self.compute_probability( X, self.mean[str(cls)], self.variance[str(cls)])\n",
    "            probs[:, cls] = cls_prob + np.log(self.prior_prob[str(cls)])\n",
    "\n",
    "        return np.argmax(probs, 1)\n",
    "\n",
    "    # Gaussian density function\n",
    "    def compute_probability(self, x, mean, sigma):\n",
    "        \n",
    "        const = -self.num_features / 2 * np.log(2 * np.pi) - 0.5 * np.sum(np.log(sigma + self.e))\n",
    "        probs = 0.5 * np.sum(np.power(x - mean, 2) / (sigma + self.e), 1)\n",
    "        return const - probs\n",
    "\n",
    "\n",
    "if __name__ == \"__main__\":\n",
    "    X = np.loadtxt(\"input/data.txt\", delimiter=\",\")\n",
    "    y = np.loadtxt(\"input/targets.txt\") - 1\n",
    "\n",
    "    NB = NaiveBayes(X, y)\n",
    "    NB.fit(X)\n",
    "    y_pred = NB.predict(X)\n",
    "\n",
    "    print(f\"Accuracy: {sum(y_pred==y)/X.shape[0]}\")"
   ]
  },
  {
   "cell_type": "code",
   "execution_count": null,
   "id": "humanitarian-passport",
   "metadata": {},
   "outputs": [],
   "source": []
  }
 ],
 "metadata": {
  "kernelspec": {
   "display_name": "mydlenv",
   "language": "python",
   "name": "mydlenv"
  },
  "language_info": {
   "codemirror_mode": {
    "name": "ipython",
    "version": 3
   },
   "file_extension": ".py",
   "mimetype": "text/x-python",
   "name": "python",
   "nbconvert_exporter": "python",
   "pygments_lexer": "ipython3",
   "version": "3.8.2"
  },
  "latex_envs": {
   "LaTeX_envs_menu_present": true,
   "autoclose": false,
   "autocomplete": true,
   "bibliofile": "biblio.bib",
   "cite_by": "apalike",
   "current_citInitial": 1,
   "eqLabelWithNumbers": true,
   "eqNumInitial": 1,
   "hotkeys": {
    "equation": "Ctrl-E",
    "itemize": "Ctrl-I"
   },
   "labels_anchors": false,
   "latex_user_defs": false,
   "report_style_numbering": false,
   "user_envs_cfg": false
  }
 },
 "nbformat": 4,
 "nbformat_minor": 5
}
