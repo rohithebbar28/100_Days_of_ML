{
 "cells": [
  {
   "cell_type": "code",
   "execution_count": 10,
   "id": "respiratory-toronto",
   "metadata": {},
   "outputs": [],
   "source": [
    "import numpy as np\n",
    "import matplotlib.pyplot as plt"
   ]
  },
  {
   "cell_type": "code",
   "execution_count": 29,
   "id": "undefined-leone",
   "metadata": {},
   "outputs": [
    {
     "name": "stdout",
     "output_type": "stream",
     "text": [
      "Cost at Iteration 0 is 42.886513505427835\n",
      "Cost at Iteration 1000 is 0.01008372024134898\n",
      "(1, 500)\n"
     ]
    },
    {
     "data": {
      "image/png": "[encoded data removed]",
      "text/plain": [
       "<Figure size 432x288 with 1 Axes>"
      ]
     },
     "metadata": {
      "needs_background": "light"
     },
     "output_type": "display_data"
    }
   ],
   "source": [
    "class LinearRegression:\n",
    "    def __init__(self):\n",
    "        self.lr = 0.01\n",
    "        self.epochs = 1000\n",
    "        \n",
    "    def y_hat(self, X, w):\n",
    "        return np.dot(w.T, X)\n",
    "    \n",
    "    def cost(self, yhat,y):\n",
    "        C = 1 / self.m * np.sum(np.power(yhat - y, 2))\n",
    "        return C\n",
    "    def gradient_descent(self,w,X,y,yhat):\n",
    "        dCdw = 2 / self.m * np.dot(X,(yhat - y).T)\n",
    "        w = w - self.lr *dCdw\n",
    "        return w\n",
    "    \n",
    "    def run(self, X, y):\n",
    "        # add x1 = 1\n",
    "        ones = np.ones((1, X.shape[1]))\n",
    "        X = np.append(ones, X, axis = 0)\n",
    "        \n",
    "        self.m = X.shape[1]\n",
    "        self.n = X.shape[0]\n",
    "        \n",
    "        w = np.zeros((self.n, 1))\n",
    "        \n",
    "        for epoch in range(self.epochs + 1):\n",
    "            yhat = self.y_hat(X, w)\n",
    "            cost = self.cost(yhat, y)\n",
    "            \n",
    "            if epoch % 1000 == 0:\n",
    "                print(f'Cost at Iteration {epoch} is {cost}')\n",
    "                \n",
    "            w = self.gradient_descent(w, X, y, yhat)\n",
    "            \n",
    "        return w\n",
    "    \n",
    "    \n",
    "if __name__ == \"__main__\":\n",
    "    X = np.random.rand(1,500)\n",
    "    y = 3 * X + 5 + np.random.randn(1,500) * 0.1\n",
    "    regression = LinearRegression()\n",
    "    w = regression.run(X, y)\n",
    "    plt.plot(X,y,'o',color='green')\n",
    "    \n",
    "    #m,b = np.polyfit(X,y,1)\n",
    "    \n",
    "   # plt.plot(X, m*X+b,color='red')\n",
    "    \n",
    "    print(X.shape)\n",
    "\n",
    "            "
   ]
  },
  {
   "cell_type": "code",
   "execution_count": null,
   "id": "instant-roberts",
   "metadata": {},
   "outputs": [],
   "source": []
  }
 ],
 "metadata": {
  "kernelspec": {
   "display_name": "mydlenv",
   "language": "python",
   "name": "mydlenv"
  },
  "language_info": {
   "codemirror_mode": {
    "name": "ipython",
    "version": 3
   },
   "file_extension": ".py",
   "mimetype": "text/x-python",
   "name": "python",
   "nbconvert_exporter": "python",
   "pygments_lexer": "ipython3",
   "version": "3.8.2"
  },
  "latex_envs": {
   "LaTeX_envs_menu_present": true,
   "autoclose": false,
   "autocomplete": true,
   "bibliofile": "biblio.bib",
   "cite_by": "apalike",
   "current_citInitial": 1,
   "eqLabelWithNumbers": true,
   "eqNumInitial": 1,
   "hotkeys": {
    "equation": "Ctrl-E",
    "itemize": "Ctrl-I"
   },
   "labels_anchors": false,
   "latex_user_defs": false,
   "report_style_numbering": false,
   "user_envs_cfg": false
  }
 },
 "nbformat": 4,
 "nbformat_minor": 5
}
